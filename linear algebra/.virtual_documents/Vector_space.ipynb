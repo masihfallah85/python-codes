


#Importing numpy
import numpy as np


#Creating 3 vectors as an example

vector_1 = np.array([1,2,3])

vector_2 = np.array([4,5,6])

vector_3 = np.array([7,8,9])


#Addition laws(closure under addition is true for all of them as they are still vectors)

print(True if False not in((vector_1 + vector_2) + vector_3 == (vector_1 + vector_3) + vector_2) else False)

print(True if False not in(vector_1 + vector_2 == vector_2 + vector_1) else False)

print(True if False not in(vector_1 + np.zeros(3) == vector_1) else False)

print(True if False not in(vector_1 + (-1 * vector_1) == np.zeros(3)) else False)


#Multiplication laws(closure under scalar multiplication is true for all of them)

print(True if False not in( 2 * ( 3 * vector_1) == (2 * 3) * vector_1) else False)

print(True if False not in(1 * vector_1 == vector_1) else False)

print(True if False not in(3 * (vector_1 + vector_2) == 3 * vector_1 + 3 * vector_2) else False)

print(True if False not in((3 + 4) * vector_1 == 3 * vector_1 + 4 * vector_1) else False)



