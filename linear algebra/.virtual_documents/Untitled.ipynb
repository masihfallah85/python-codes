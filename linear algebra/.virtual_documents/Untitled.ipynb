


#Importing numpy solve method and array
from numpy.linalg import solve,array


#Creating a coefficent and solution matrix
A = array([[2,1],[3,4]])

B = array([8,11])



