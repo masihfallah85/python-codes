


#Importing vdot(for general case as opposed to dot),norm,degrees and arccos
from numpy import vdot

from numpy.linalg import norm

from numpy import arccos

from numpy import degrees

from math import sqrt

import numpy as np


#Create two vectors as an example

vector_1 = np.array([1,2,3])

vector_2 = np.array([4,5,6])


#Calculating inner product by both formula and numpy function

dotproduct = 0

for i in range(len(vector_1)):

    dotproduct += vector_1[i] * vector_2[i]

print(f"Result of inner product of {vector_1} and {vector_2} is {dotproduct}")

print(f"it's same as using vdot function from numpy {vdot(vector_1,vector_2)}")


#Showing euclidian norm with dot product

print(f"Euclidan norm of {vector_1} is {norm(vector_1,2)} wich is same as using dotproduct wich result in {sqrt(vdot(vector_1,vector_1))}")


#Finding angel between two vectors by dot product
cosin_theta = (vdot(vector_1,vector_2)) / (norm(vector_1,2) * norm(vector_2,2))

theta_radians = arccos(cosin_theta)

theta_degrees = degrees(theta_radians)

print(f"Degree between {vector_1} and {vector_2} is {theta_degrees}")
