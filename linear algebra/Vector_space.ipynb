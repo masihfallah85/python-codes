{
 "cells": [
  {
   "cell_type": "markdown",
   "id": "41420a6f-c2a6-47ec-80c6-2e5ddd59f9f8",
   "metadata": {},
   "source": [
    "# Vector_space\n",
    "\n",
    "A field is a set which addition,multiplication,subtraction and division is defiend one it.\n",
    "\n",
    "A vector space is a space over a field(usuallt R or C,\"over\" means scalars used in scalar multiplication come from that field) wich is defined as below.\n",
    "\n",
    "$$\n",
    "(V, +, \\cdot)\n",
    "$$\n",
    "\n",
    "V is set of elements called vectors(therfore a vector is defined by vector space)\n",
    "\n",
    "$+$ is vector addition,which means summing each entry for example (v1 , v2) + (w1 , w2) = (v1+w1 , v2+w2)\n",
    "\n",
    "$\\cdot$ is scalar multiplication\n",
    "\n",
    "Each vector space should satisfy this 10 axioms.\n",
    "\n",
    "1.Closure under addition\n",
    "\n",
    "$$\n",
    "u+v \\in V \\quad\\text{for all }u,v\\in V\n",
    "$$\n",
    "\n",
    "2.Associativity of addition\n",
    "\n",
    "$$\n",
    "(u + v) + w = u + (v + w)\n",
    "$$\n",
    "\n",
    "3.Commutativity of addition\n",
    "\n",
    "$$\n",
    "u + v = v + u\n",
    "$$\n",
    "\n",
    "4.Additive identity\n",
    "\n",
    "There   exists   an   element $$0\\in V$$  such that $$v + 0 = v \\quad\\text{for all }v\\in V$$\n",
    "\n",
    "5.Additive inverse\n",
    "\n",
    "For every $$v\\in V$$ there exists $$-v\\in V$$ with  $$v + (-v) = 0$$\n",
    "\n",
    "6.Closure under scalar multiplication\n",
    "\n",
    "$$\n",
    "a\\cdot v \\in V \\quad\\text{for all }a\\in\\mathbb{F},\\ v\\in V\n",
    "$$\n",
    "\n",
    "7.Compatibility with field multiplication\n",
    "\n",
    "$$\n",
    "a\\cdot(b\\cdot v) = (ab)\\cdot v\n",
    "$$\n",
    "\n",
    "8.Identity element of scalar multiplication\n",
    "\n",
    "$$\n",
    "1\\cdot v = v \\quad\\text{(where $1\\in\\mathbb{F}$).}\n",
    "$$\n",
    "\n",
    "9.Distributivity of scalar multiplication over vector addition\n",
    "\n",
    "$$\n",
    "a\\cdot(u+v) = a\\cdot u + a\\cdot v\n",
    "$$\n",
    "\n",
    "10.Distributivity of scalar multiplication over field addition\n",
    "\n",
    "$$\n",
    "(a+b)\\cdot v = a\\cdot v + b\\cdot v\n",
    "$$\n",
    "\n"
   ]
  },
  {
   "cell_type": "code",
   "execution_count": 5,
   "id": "c189d981-489a-4662-b968-de624442634b",
   "metadata": {},
   "outputs": [],
   "source": [
    "#Importing numpy\n",
    "import numpy as np"
   ]
  },
  {
   "cell_type": "code",
   "execution_count": 6,
   "id": "d929f1c9-f5b8-4a07-b06f-63418cfca271",
   "metadata": {},
   "outputs": [],
   "source": [
    "#Creating 3 vectors as an example\n",
    "\n",
    "vector_1 = np.array([1,2,3])\n",
    "\n",
    "vector_2 = np.array([4,5,6])\n",
    "\n",
    "vector_3 = np.array([7,8,9])"
   ]
  },
  {
   "cell_type": "code",
   "execution_count": 7,
   "id": "3c5e9eb6-6414-4399-bf59-16d4c08e6e57",
   "metadata": {},
   "outputs": [
    {
     "name": "stdout",
     "output_type": "stream",
     "text": [
      "True\n",
      "True\n",
      "True\n",
      "True\n"
     ]
    }
   ],
   "source": [
    "#Addition laws(closure under addition is true for all of them as they are still vectors)\n",
    "\n",
    "print(True if False not in((vector_1 + vector_2) + vector_3 == (vector_1 + vector_3) + vector_2) else False)\n",
    "\n",
    "print(True if False not in(vector_1 + vector_2 == vector_2 + vector_1) else False)\n",
    "\n",
    "print(True if False not in(vector_1 + np.zeros(3) == vector_1) else False)\n",
    "\n",
    "print(True if False not in(vector_1 + (-1 * vector_1) == np.zeros(3)) else False)"
   ]
  },
  {
   "cell_type": "code",
   "execution_count": 8,
   "id": "265d8bf0-adea-4df8-8e48-1a3051d8d07a",
   "metadata": {},
   "outputs": [
    {
     "name": "stdout",
     "output_type": "stream",
     "text": [
      "True\n",
      "True\n",
      "True\n",
      "True\n"
     ]
    }
   ],
   "source": [
    "#Multiplication laws(closure under scalar multiplication is true for all of them)\n",
    "\n",
    "print(True if False not in( 2 * ( 3 * vector_1) == (2 * 3) * vector_1) else False)\n",
    "\n",
    "print(True if False not in(1 * vector_1 == vector_1) else False)\n",
    "\n",
    "print(True if False not in(3 * (vector_1 + vector_2) == 3 * vector_1 + 3 * vector_2) else False)\n",
    "\n",
    "print(True if False not in((3 + 4) * vector_1 == 3 * vector_1 + 4 * vector_1) else False)"
   ]
  },
  {
   "cell_type": "code",
   "execution_count": null,
   "id": "38ccec26-2c0e-47a3-8fcf-778722e76c4d",
   "metadata": {},
   "outputs": [],
   "source": []
  }
 ],
 "metadata": {
  "kernelspec": {
   "display_name": "Python 3 (ipykernel)",
   "language": "python",
   "name": "python3"
  },
  "language_info": {
   "codemirror_mode": {
    "name": "ipython",
    "version": 3
   },
   "file_extension": ".py",
   "mimetype": "text/x-python",
   "name": "python",
   "nbconvert_exporter": "python",
   "pygments_lexer": "ipython3",
   "version": "3.13.5"
  }
 },
 "nbformat": 4,
 "nbformat_minor": 5
}
