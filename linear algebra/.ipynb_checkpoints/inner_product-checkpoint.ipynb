{
 "cells": [
  {
   "cell_type": "markdown",
   "id": "9fe8a861-e2d0-4f90-b224-d128b22e7ab4",
   "metadata": {},
   "source": [
    "# inner product\n",
    "\n",
    "We can define inner product in inner product spaces,vector spaces wich inner product is defined.\n",
    "\n",
    "An inner product is a map\n",
    "\n",
    "$$\n",
    "\\langle \\cdot , \\cdot \\rangle : V \\times V \\;\\to\\; \\mathbb{F},\n",
    "$$\n",
    "\n",
    "Where $(\\mathbb{F} = \\mathbb{R} or  \\mathbb{C})$\n",
    "\n",
    "\n",
    "For vectors $(x=(x_1,\\dots,x_n),\\; y=(y_1,\\dots,y_n))$:\n",
    "\n",
    "$$\n",
    "\\langle x , y \\rangle = \\sum_{i=1}^n x_i \\,\\overline{y_i}.\n",
    "$$\n",
    "\n",
    "In the real case this reduces to\n",
    "\n",
    "$$\n",
    "\\langle x , y \\rangle = \\sum_{i=1}^n x_i y_i.\n",
    "$$\n",
    "\n",
    "It allows us to talk about angels.\n",
    "\n",
    "For nonzero $(x,y)$:\n",
    "\n",
    "$$\n",
    "\\cos \\theta = \\frac{\\langle x,y \\rangle}{\\|x\\| \\, \\|y\\|}.\n",
    "$$\n",
    "\n",
    "It also allows us to talk about length.\n",
    "\n",
    "$$\n",
    "\\|x\\| = \\sqrt{\\langle x, x \\rangle}.\n",
    "$$"
   ]
  },
  {
   "cell_type": "code",
   "execution_count": null,
   "id": "2230e900-68e6-46d1-a8ac-a521590310a6",
   "metadata": {},
   "outputs": [],
   "source": [
    "#Importing vdot(for general case as opposed to dot),norm,degrees and arccos\n",
    "from numpy import vdot\n",
    "\n",
    "from numpy.linalg import norm\n",
    "\n",
    "from numpy import arccos\n",
    "\n",
    "from numpy import degrees\n",
    "\n",
    "from math import sqrt\n",
    "\n",
    "import numpy as np"
   ]
  },
  {
   "cell_type": "code",
   "execution_count": null,
   "id": "2f9e30f3-fbab-4eef-806f-deb532164172",
   "metadata": {},
   "outputs": [],
   "source": [
    "#Create two vectors as an example\n",
    "\n",
    "vector_1 = np.array([1,2,3])\n",
    "\n",
    "vector_2 = np.array([4,5,6])"
   ]
  },
  {
   "cell_type": "code",
   "execution_count": null,
   "id": "6412f93c-fd48-4617-8c27-36c862bd8b6e",
   "metadata": {},
   "outputs": [],
   "source": [
    "#Calculating inner product by both formula and numpy function\n",
    "\n",
    "dotproduct = 0\n",
    "\n",
    "for i in range(len(vector_1)):\n",
    "\n",
    "    dotproduct += vector_1[i] * vector_2[i]\n",
    "\n",
    "print(f\"Result of inner product of {vector_1} and {vector_2} is {dotproduct}\")\n",
    "\n",
    "print(f\"it's same as using vdot function from numpy {vdot(vector_1,vector_2)}\")"
   ]
  },
  {
   "cell_type": "code",
   "execution_count": null,
   "id": "1c292f68-59bd-4538-943d-df3f0439e27b",
   "metadata": {},
   "outputs": [],
   "source": [
    "#Showing euclidian norm with dot product\n",
    "\n",
    "print(f\"Euclidan norm of {vector_1} is {norm(vector_1,2)} wich is same as using dotproduct wich result in {sqrt(vdot(vector_1,vector_1))}\")"
   ]
  },
  {
   "cell_type": "code",
   "execution_count": null,
   "id": "817deea4-47c6-4dfa-a8e6-a30be393b6b3",
   "metadata": {},
   "outputs": [],
   "source": [
    "#Finding angel between two vectors by dot product\n",
    "cosin_theta = (vdot(vector_1,vector_2)) / (norm(vector_1,2) * norm(vector_2,2))\n",
    "\n",
    "theta_radians = arccos(cosin_theta)\n",
    "\n",
    "theta_degrees = degrees(theta_radians)\n",
    "\n",
    "print(f\"Degree between {vector_1} and {vector_2} is {theta_degrees}\")"
   ]
  }
 ],
 "metadata": {
  "kernelspec": {
   "display_name": "Python 3 (ipykernel)",
   "language": "python",
   "name": "python3"
  },
  "language_info": {
   "codemirror_mode": {
    "name": "ipython",
    "version": 3
   },
   "file_extension": ".py",
   "mimetype": "text/x-python",
   "name": "python",
   "nbconvert_exporter": "python",
   "pygments_lexer": "ipython3",
   "version": "3.13.5"
  }
 },
 "nbformat": 4,
 "nbformat_minor": 5
}
