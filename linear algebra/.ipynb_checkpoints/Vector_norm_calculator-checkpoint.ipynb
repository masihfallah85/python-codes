{
 "cells": [
  {
   "attachments": {},
   "cell_type": "markdown",
   "id": "025990cd-b035-4e3e-b22c-a153d275f3a8",
   "metadata": {},
   "source": [
    "# Vector_norm_calculator\n",
    "\n",
    "In this script we calculate norm of a vector using this formula:\n",
    "\n",
    "$$\n",
    "\\|x\\|_p = \\left( \\sum_{i=1}^{n} |x_i|^p \\right)^{\\frac{1}{p}}\n",
    "$$\n",
    "\n",
    "Which p >= 1 is norm order showing how we measure vector's size,and xi is ith element of vector x\n",
    "\n",
    "We can genralize norm with $L^p$ spaces.if we have a measurable function f from domain Ω to R(or C) we define $L^p$ norm as :\n",
    "\n",
    "$$\n",
    "\\| f \\|_p = \\left( \\int_X |f(x)|^p \\, d\\mu(x) \\right)^{\\frac{1}{p}}, \\quad 1 \\leq p < \\infty\n",
    "$$\n",
    "\n",
    "and the space of all such functions is called $L^p$ space which is infinite dimensional.\n",
    "\n",
    "If you consider a special case of $L^p$ spaces with finite dimensions and counting measure we reach to p-norm of vector formula.\n",
    "\n",
    "If p is $\\infty$ we calculate maximum or sup norm which finds the maximum entry,since if we take limit of p to infinity of p-norm formula,the maximum entry grows faster and cancels out other entries.\n",
    "\n",
    "If p is 1 we calculate taxicab norm and if p is 2 we calculate standard euclidian norm."
   ]
  },
  {
   "cell_type": "code",
   "execution_count": null,
   "id": "bef3b939-1d30-4b1f-b188-0ac3efd9a376",
   "metadata": {},
   "outputs": [],
   "source": [
    "#Importing numpy library as np for vector and norm from numpy.linalg\n",
    "\n",
    "import numpy as np\n",
    "\n",
    "from numpy.linalg import norm"
   ]
  },
  {
   "cell_type": "code",
   "execution_count": null,
   "id": "168d91e1-2562-4554-808d-7ec516377335",
   "metadata": {},
   "outputs": [],
   "source": [
    "#Prompt user to enter entries of vector and add them to vector\n",
    "\n",
    "user_input = input(\"Enter vector's entries seperated by space: \")\n",
    "\n",
    "vector  = np.array([float(x) for x in user_input.split()])"
   ]
  },
  {
   "cell_type": "code",
   "execution_count": null,
   "id": "152e469e-2414-4934-9a7f-a7cc16ad4dff",
   "metadata": {},
   "outputs": [],
   "source": [
    "#Prompt user to enter norm order\n",
    "\n",
    "p = input(\"Enter and integer bigger than 0 for norm order,for maximum norm enter 'inf': \")\n",
    "\n",
    "if  p != \"inf\":\n",
    "\n",
    "    p = int(p)"
   ]
  },
  {
   "cell_type": "code",
   "execution_count": null,
   "id": "7ab69411-7bbc-4490-b259-740e7e0dad99",
   "metadata": {},
   "outputs": [],
   "source": [
    "#Calculate the norm\n",
    "\n",
    "if p == \"inf\":\n",
    "\n",
    "    print(f\"maximum norm of {vector} is {np.max(vector)}\")\n",
    "\n",
    "else:\n",
    "\n",
    "    norm_of_vector = (np.sum(np.abs(vector) ** p)) ** (1 / p)\n",
    "\n",
    "    \n",
    "    print(f\"Norm of {p} order of {vector} is {norm_of_vector}\")"
   ]
  },
  {
   "cell_type": "code",
   "execution_count": null,
   "id": "551d247f-61e6-45e7-8da4-3db9c5eaa9c8",
   "metadata": {},
   "outputs": [],
   "source": [
    "# We can use numpy's norm method to calculate norm\n",
    "\n",
    "if p == \"inf\":\n",
    "\n",
    "    norm_of_vector = norm(vector,np.inf)\n",
    "\n",
    "    print(f\"Maximum norm of {vector} using numpy's norm method  is {norm_of_vector}\")\n",
    "\n",
    "else:\n",
    "\n",
    "    norm_of_vector = norm(vector,int(p))\n",
    "\n",
    "    print(f\"Norm of {p} order of {vector} using numpy's norm method is {norm_of_vector}\")"
   ]
  }
 ],
 "metadata": {
  "kernelspec": {
   "display_name": "Python 3 (ipykernel)",
   "language": "python",
   "name": "python3"
  },
  "language_info": {
   "codemirror_mode": {
    "name": "ipython",
    "version": 3
   },
   "file_extension": ".py",
   "mimetype": "text/x-python",
   "name": "python",
   "nbconvert_exporter": "python",
   "pygments_lexer": "ipython3",
   "version": "3.13.5"
  }
 },
 "nbformat": 4,
 "nbformat_minor": 5
}
