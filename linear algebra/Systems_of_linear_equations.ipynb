{
 "cells": [
  {
   "cell_type": "markdown",
   "id": "aee1e91a-088a-4de8-9c9c-e85cc2f6f6f8",
   "metadata": {},
   "source": [
    "# Systems_of_linear_equations\n",
    "\n",
    "A system of linear equations is some polynomials with degree of 1 wich at least one coefficent at right side is not 0.\n",
    "\n",
    "Each coeeficent is from field F and solutions are from field K wich F is subset of K so a multiplication is defined.\n",
    "\n",
    "System of linear equations is described by it's solution set so each system wich is equal should have same solution set and vice versa.\n",
    "\n",
    "Geometricaly it's about intersection of hyperplanes in n-dimensional space,either having no,1 or infinitly many solutions.\n",
    "\n",
    "If we add an extra column to coefficent matrix we create agumented matrix,if we turn it to it's echelon form(below of each leading entry(leftmost non-zero element in a row)should be zero(a pivot entry in pivot column),each pivot should be at right of top pivot and a row wich it's entries are all zero\n",
    "should be below any other row)then transform it to row reduced echelon form(turning each pivot to 1 and eahc pivot is the only non-zero entry in column) we solve the equation by RREF(Gauss-Jordan)method.\n",
    "\n",
    "In RREF matrix if right most column is pivot the system is inconsistent(for a b != 0 we have b = 0) and it doesn't have any answer.if we have free variables(at right of a pivot of a row in RREF befor right most column we have a non zero entry) it has infinitly many solutions,and otherwise only 1.\n",
    "\n",
    "Each agumented matrix has excactly 1 RREF form despite having many echelon forms as it's provable by  the fact that columns of row-equivalent\n",
    "matrices have exactly the same linear dependence relations,although it's complex.\n",
    "\n",
    "numpy's solve method uses LU decomposition method for it's efficency,By turning coeeficent matrix to multiplciaiton of a lower and upper triangular matrix LU obtained similarly by basic-row operations(scaling,swapping and adding a row to scaling of another one),then solve L*y = b(right side of eqaution) then U*x = y,obtaining solutions as x."
   ]
  },
  {
   "cell_type": "code",
   "execution_count": 5,
   "id": "e3bbfd9e-1184-449e-a1f3-e5f1a1083775",
   "metadata": {},
   "outputs": [],
   "source": [
    "#Importing numpy solve method and array\n",
    "from numpy.linalg import solve\n",
    "from numpy import array"
   ]
  },
  {
   "cell_type": "code",
   "execution_count": 6,
   "id": "8227af0e-6fa9-4705-b845-c0e2a9f72082",
   "metadata": {},
   "outputs": [],
   "source": [
    "#Creating a coefficent and solution matrix\n",
    "A = array([[2,1],[3,4]])\n",
    "\n",
    "B = array([8,11])"
   ]
  },
  {
   "cell_type": "code",
   "execution_count": null,
   "id": "0cce5be0-a01e-4991-ba56-c80b81bbfac9",
   "metadata": {},
   "outputs": [],
   "source": [
    "#Solving it using solve method(LU method)\n",
    "X = solve(A,B)\n",
    "\n",
    "print(X)"
   ]
  }
 ],
 "metadata": {
  "kernelspec": {
   "display_name": "Python 3 (ipykernel)",
   "language": "python",
   "name": "python3"
  },
  "language_info": {
   "codemirror_mode": {
    "name": "ipython",
    "version": 3
   },
   "file_extension": ".py",
   "mimetype": "text/x-python",
   "name": "python",
   "nbconvert_exporter": "python",
   "pygments_lexer": "ipython3",
   "version": "3.13.5"
  }
 },
 "nbformat": 4,
 "nbformat_minor": 5
}
