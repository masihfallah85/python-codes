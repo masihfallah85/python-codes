


#Importing numpy library as np for vector and norm from numpy.linalg

import numpy as np

from numpy.linalg import norm


#Prompt user to enter entries of vector and add them to vector

user_input = input("Enter vector's entries seperated by space: ")

vector  = np.array([float(x) for x in user_input.split()])


#Prompt user to enter norm order

p = input("Enter and integer bigger than 0 for norm order,for maximum norm enter 'inf': ")

if  p != "inf":

    p = int(p)


#Calculate the norm

if p == "inf":

    print(f"maximum norm of {vector} is {np.max(vector)}")

else:

    norm = (np.sum(np.abs(vector) ** p)) ** (1 / p)

    
    print(f"Norm of {p} order of {vector} is {norm}")


# We can use numpy's norm method to calculate norm

if p == "inf":

    norm = norm(vector,np.inf)

    print(f"Maximum norm of {vector} using numpy's norm method  is {norm}")

else:

    norm = norm(vector,int(p))

    print(f"Norm of {p} order of {vector} using numpy's norm method is {norm}")
