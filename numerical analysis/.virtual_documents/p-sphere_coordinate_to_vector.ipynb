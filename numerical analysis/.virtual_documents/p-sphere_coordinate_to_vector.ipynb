


#Importing numpy and norm function
import numpy as np

from numpy.linalg import norm


#Promp user to input rho,theta and phi,and the norm-order

rho = float(input("Enter rho: "))

phi = float(input("Enter phi: "))

theta = float(input("Enter theta: "))

norm_order = int(input("Enter norm order: "))

phi = np.radians(phi)

theta = np.radians(theta)


#Create raw angular angular vector
vector = np.array([
    np.cos(theta) * np.sin(phi) ,
    np.sin(theta) * np.sin(phi),
    np.cos(phi) ])


#Change the vector to unit p-sphere angular vector
vector_norm = norm(vector,norm_order)

unit_vector = vector / vector_norm


#Multiply by rho and print the result
final_vector = unit_vector * rho

print("Final vector: ", final_vector)
