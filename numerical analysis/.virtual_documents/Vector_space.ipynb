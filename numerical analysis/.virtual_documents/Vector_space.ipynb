


#Importing numpy
import numpy as np


#Creating 3 vectors as an example

vector_1 = np.array([1,2,3])

vector_2 = np.array([4,5,6])

vector_3 = np.array([7,8,9])


#Addition laws(closure under addition is true for all of them as they are still vectors)

print((vector_1 + vector_2) + vector_3 == (vector_1 + vector_3) + vector_2)

print(vector_1 + vector_2 == vector_2 + vector_1)

print(vector_1 + np.zeros(3) == vector_1)

print(vector_1 + (-1 * vector_1) == np.zeros(3))


#Multiplication laws(closure under scalar multiplication is true for all of them)

print( 2 * ( 3 * vector_1) == (2 * 3) * vector_1)

print(1 * vector_1 == vector_1)

print(3 * (vector_1 + vector_2) == 3 * vector_1 + 3 * vector_2)

print((3 + 4) * vector_1 == 3 * vector_1 + 4 * vector_1)



