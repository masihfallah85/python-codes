


#Importing numpy library as np for vector and norm from numpy.linalg

import numpy as np

from numpy.linalg import norm


#Prompt user to enter entries of vector and add them to vector

user_input = input("Enter vector's entries seperated by space: ")

vector  = np.array([float(x) for x in user_input.split()])


#Prompt user to enter norm order

p = input("Enter and integer bigger than 0 for norm order,for maximum norm enter 'inf': ")

if  p != "inf":

    p = int(p)


#Calculate the norm

if p == "inf":

    print(f"maximum norm of {vector} is {np.max(vector)}")

else:

    norm_of_vector = (np.sum(np.abs(vector) ** p)) ** (1 / p)

    
    print(f"Norm of {p} order of {vector} is {norm_of_vector}")


# We can use numpy's norm method to calculate norm

if p == "inf":

    norm_of_vector = norm(vector,np.inf)

    print(f"Maximum norm of {vector} using numpy's norm method  is {norm_of_vector}")

else:

    norm_of_vector = norm(vector,int(p))

    print(f"Norm of {p} order of {vector} using numpy's norm method is {norm_of_vector}")
