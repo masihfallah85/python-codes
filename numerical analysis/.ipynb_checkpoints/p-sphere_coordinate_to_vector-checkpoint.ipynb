{
 "cells": [
  {
   "cell_type": "markdown",
   "id": "c5b8fa31-0044-4d61-a1db-6e09e50a77d7",
   "metadata": {},
   "source": [
    "# p-sphere_coordinate_to_vector\n",
    "\n",
    "In this script,we havea 3 dimensional p-sphere,a generalization of sphere to space with norm p.we want to turn a uniqe p-sphere coordinate point to a 3 dimensional vector.\n",
    "\n",
    "A p-sphere is defined as the set of all points in R^3 that have constant distance (p-norm) from the origin:\n",
    "\n",
    "$$\n",
    "S_p^{\\,2} = \\{\\, x \\in \\mathbb{R}^3 : \\|x\\|_p = 1 \\,\\}\n",
    "$$\n",
    "\n",
    "Any non zero vector can be splitted to magnitude and direction.\n",
    "\n",
    "$$\n",
    "\\quad x = \\rho \\, u, \\quad \\rho = \\|x\\|_p, \\quad u = \\frac{x}{\\|x\\|_p}\n",
    "$$\n",
    "\n",
    "Therfore a vector can be shown as this.\n",
    "\n",
    "$$\n",
    "\\begin{aligned}\n",
    "x &= \\rho \\sin\\phi \\cos\\theta \\\\\n",
    "y &= \\rho \\sin\\phi \\sin\\theta \\\\\n",
    "z &= \\rho \\cos\\phi\n",
    "\\end{aligned}\n",
    "$$\n",
    "\n",
    "And this is raw angular vector.\n",
    "\n",
    "$$\n",
    "v(\\phi,\\theta) = \\big( \\cos\\theta \\sin\\phi,\\; \\sin\\theta \\sin\\phi,\\; \\cos\\phi \\big)\n",
    "$$\n",
    "\n",
    "When we have this raw angular vector we normalize it using p-norm to genelize to any p\n",
    "\n",
    "$$\n",
    "u(\\phi,\\theta) = \\frac{v(\\phi,\\theta)}{\\|v(\\phi,\\theta)\\|_p}\n",
    "$$\n",
    "\n",
    "Now based on this info we multiply by chosen p to construct a vector in 3D space.\n",
    "\n",
    "$$\n",
    "x(\\rho,\\phi,\\theta) = \\rho \\, u(\\phi,\\theta) \\;=\\; \n",
    "\\rho \\, \\frac{v(\\phi,\\theta)}{\\|v(\\phi,\\theta)\\|_p}\n",
    "$$"
   ]
  },
  {
   "cell_type": "code",
   "execution_count": null,
   "id": "87828ff2-753d-4b9b-8953-c22e5380042e",
   "metadata": {},
   "outputs": [],
   "source": [
    "#Importing numpy and norm function\n",
    "import numpy as np\n",
    "\n",
    "from numpy.linalg import norm"
   ]
  },
  {
   "cell_type": "code",
   "execution_count": null,
   "id": "b16ab454-2fbe-4d91-a9f8-73531fe41db9",
   "metadata": {},
   "outputs": [],
   "source": [
    "#Promp user to input rho,theta and phi,and the norm-order\n",
    "\n",
    "rho = float(input(\"Enter rho: \"))\n",
    "\n",
    "phi = float(input(\"Enter phi: \"))\n",
    "\n",
    "theta = float(input(\"Enter theta: \"))\n",
    "\n",
    "norm_order = int(input(\"Enter norm order: \"))\n",
    "\n",
    "phi = np.radians(phi)\n",
    "\n",
    "theta = np.radians(theta)"
   ]
  },
  {
   "cell_type": "code",
   "execution_count": null,
   "id": "bd747b19-c1bc-4f27-a904-506c657c1d99",
   "metadata": {},
   "outputs": [],
   "source": [
    "#Create raw angular angular vector\n",
    "vector = np.array([\n",
    "    np.cos(theta) * np.sin(phi) ,\n",
    "    np.sin(theta) * np.sin(phi),\n",
    "    np.cos(phi) ])"
   ]
  },
  {
   "cell_type": "code",
   "execution_count": null,
   "id": "5389fc39-30ba-4878-9e5f-968d447e7fb6",
   "metadata": {},
   "outputs": [],
   "source": [
    "#Change the vector to unit p-sphere angular vector\n",
    "vector_norm = norm(vector,norm_order)\n",
    "\n",
    "unit_vector = vector / vector_norm"
   ]
  },
  {
   "cell_type": "code",
   "execution_count": null,
   "id": "569f4a34-3e30-439e-9301-612d242cca56",
   "metadata": {},
   "outputs": [],
   "source": [
    "#Multiply by rho and print the result\n",
    "final_vector = unit_vector * rho\n",
    "\n",
    "print(\"Final vector: \", final_vector)"
   ]
  }
 ],
 "metadata": {
  "kernelspec": {
   "display_name": "Python 3 (ipykernel)",
   "language": "python",
   "name": "python3"
  },
  "language_info": {
   "codemirror_mode": {
    "name": "ipython",
    "version": 3
   },
   "file_extension": ".py",
   "mimetype": "text/x-python",
   "name": "python",
   "nbconvert_exporter": "python",
   "pygments_lexer": "ipython3",
   "version": "3.13.5"
  }
 },
 "nbformat": 4,
 "nbformat_minor": 5
}
